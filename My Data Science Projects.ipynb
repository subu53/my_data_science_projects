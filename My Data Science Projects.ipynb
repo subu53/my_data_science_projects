{
 "cells": [
  {
   "cell_type": "code",
   "execution_count": 1,
   "id": "81bdbe91-de3a-4370-858b-4ff2ebb7f0a8",
   "metadata": {},
   "outputs": [],
   "source": [
    "#India Exports Project. "
   ]
  },
  {
   "cell_type": "code",
   "execution_count": 2,
   "id": "a25be43f-1c09-4455-a6c6-4a81778dc518",
   "metadata": {},
   "outputs": [],
   "source": [
    "#Import Data\n",
    "import pandas as pd\n",
    "df= pd.read_csv(\"C:/Users/Data Nerd/Downloads/Export_Data.csv\")"
   ]
  },
  {
   "cell_type": "markdown",
   "id": "c5cb90ac-6fe4-4584-b8e4-cd8cdbb705ab",
   "metadata": {},
   "source": [
    "What are our research questions or want to achieve after our study. \n",
    "\n",
    "1. Top exports country and volume.\n",
    "2  General trend of the exports over the years.\n",
    "3. How can they maximise revenue. (Just ideas and explore the data)\n",
    "4. A model to predict the volume of imports. \n",
    "\n",
    "The data is very limited. There is not much we can do but lets see what we can do.\n"
   ]
  },
  {
   "cell_type": "code",
   "execution_count": 4,
   "id": "38f4adc3-d177-4f14-bd66-2c1747a43f91",
   "metadata": {},
   "outputs": [
    {
     "data": {
      "text/html": [
       "<div>\n",
       "<style scoped>\n",
       "    .dataframe tbody tr th:only-of-type {\n",
       "        vertical-align: middle;\n",
       "    }\n",
       "\n",
       "    .dataframe tbody tr th {\n",
       "        vertical-align: top;\n",
       "    }\n",
       "\n",
       "    .dataframe thead th {\n",
       "        text-align: right;\n",
       "    }\n",
       "</style>\n",
       "<table border=\"1\" class=\"dataframe\">\n",
       "  <thead>\n",
       "    <tr style=\"text-align: right;\">\n",
       "      <th></th>\n",
       "      <th>ROWID</th>\n",
       "      <th>Country</th>\n",
       "      <th>SourceYear</th>\n",
       "      <th>Name of the export country</th>\n",
       "      <th>Export value</th>\n",
       "      <th>YearCode</th>\n",
       "      <th>Year</th>\n",
       "    </tr>\n",
       "  </thead>\n",
       "  <tbody>\n",
       "    <tr>\n",
       "      <th>0</th>\n",
       "      <td>1</td>\n",
       "      <td>India</td>\n",
       "      <td>1996-97</td>\n",
       "      <td>FR POLYNESIA</td>\n",
       "      <td>0.26</td>\n",
       "      <td>1996</td>\n",
       "      <td>Financial Year (Apr - Mar), 1996</td>\n",
       "    </tr>\n",
       "    <tr>\n",
       "      <th>1</th>\n",
       "      <td>2</td>\n",
       "      <td>India</td>\n",
       "      <td>1996-97</td>\n",
       "      <td>PACIFIC IS</td>\n",
       "      <td>1.52</td>\n",
       "      <td>1996</td>\n",
       "      <td>Financial Year (Apr - Mar), 1996</td>\n",
       "    </tr>\n",
       "    <tr>\n",
       "      <th>2</th>\n",
       "      <td>3</td>\n",
       "      <td>India</td>\n",
       "      <td>1996-97</td>\n",
       "      <td>MONTSERRAT</td>\n",
       "      <td>1.54</td>\n",
       "      <td>1996</td>\n",
       "      <td>Financial Year (Apr - Mar), 1996</td>\n",
       "    </tr>\n",
       "    <tr>\n",
       "      <th>3</th>\n",
       "      <td>4</td>\n",
       "      <td>India</td>\n",
       "      <td>1996-97</td>\n",
       "      <td>PITCAIRN IS.</td>\n",
       "      <td>1.88</td>\n",
       "      <td>1996</td>\n",
       "      <td>Financial Year (Apr - Mar), 1996</td>\n",
       "    </tr>\n",
       "    <tr>\n",
       "      <th>4</th>\n",
       "      <td>5</td>\n",
       "      <td>India</td>\n",
       "      <td>1996-97</td>\n",
       "      <td>TIMOR LESTE</td>\n",
       "      <td>3.47</td>\n",
       "      <td>1996</td>\n",
       "      <td>Financial Year (Apr - Mar), 1996</td>\n",
       "    </tr>\n",
       "  </tbody>\n",
       "</table>\n",
       "</div>"
      ],
      "text/plain": [
       "   ROWID Country SourceYear Name of the export country  Export value  \\\n",
       "0      1   India    1996-97               FR POLYNESIA          0.26   \n",
       "1      2   India    1996-97                 PACIFIC IS          1.52   \n",
       "2      3   India    1996-97                 MONTSERRAT          1.54   \n",
       "3      4   India    1996-97               PITCAIRN IS.          1.88   \n",
       "4      5   India    1996-97                TIMOR LESTE          3.47   \n",
       "\n",
       "   YearCode                              Year  \n",
       "0      1996  Financial Year (Apr - Mar), 1996  \n",
       "1      1996  Financial Year (Apr - Mar), 1996  \n",
       "2      1996  Financial Year (Apr - Mar), 1996  \n",
       "3      1996  Financial Year (Apr - Mar), 1996  \n",
       "4      1996  Financial Year (Apr - Mar), 1996  "
      ]
     },
     "execution_count": 4,
     "metadata": {},
     "output_type": "execute_result"
    }
   ],
   "source": [
    "df.head()"
   ]
  },
  {
   "cell_type": "code",
   "execution_count": 5,
   "id": "154ea9c6-8812-416d-977b-1f460f9ca916",
   "metadata": {},
   "outputs": [
    {
     "name": "stdout",
     "output_type": "stream",
     "text": [
      "<class 'pandas.core.frame.DataFrame'>\n",
      "RangeIndex: 6070 entries, 0 to 6069\n",
      "Data columns (total 7 columns):\n",
      " #   Column                      Non-Null Count  Dtype  \n",
      "---  ------                      --------------  -----  \n",
      " 0   ROWID                       6070 non-null   int64  \n",
      " 1   Country                     6070 non-null   object \n",
      " 2   SourceYear                  6070 non-null   object \n",
      " 3   Name of the export country  6070 non-null   object \n",
      " 4   Export value                5989 non-null   float64\n",
      " 5   YearCode                    6070 non-null   int64  \n",
      " 6   Year                        6070 non-null   object \n",
      "dtypes: float64(1), int64(2), object(4)\n",
      "memory usage: 332.1+ KB\n"
     ]
    }
   ],
   "source": [
    "df.info()"
   ]
  },
  {
   "cell_type": "code",
   "execution_count": 4,
   "id": "28a1a341-f046-47fb-a01c-87a016a1dd6e",
   "metadata": {},
   "outputs": [
    {
     "data": {
      "text/plain": [
       "ROWID                          0\n",
       "Country                        0\n",
       "SourceYear                     0\n",
       "Name of the export country     0\n",
       "Export value                  81\n",
       "YearCode                       0\n",
       "Year                           0\n",
       "dtype: int64"
      ]
     },
     "execution_count": 4,
     "metadata": {},
     "output_type": "execute_result"
    }
   ],
   "source": [
    "#Check for Missing Values. Before dropping rows with null values.\n",
    "df.isnull().sum()"
   ]
  },
  {
   "cell_type": "code",
   "execution_count": 23,
   "id": "845e328c-8b85-423e-9300-a6b7d80a0f98",
   "metadata": {},
   "outputs": [],
   "source": [
    "#Drop Rows with Missing Values.\n",
    "df= df.dropna()"
   ]
  },
  {
   "cell_type": "code",
   "execution_count": 24,
   "id": "c65cfdaa-3bca-48fa-99ed-56b04779b7d2",
   "metadata": {},
   "outputs": [
    {
     "data": {
      "text/plain": [
       "ROWID             0\n",
       "Home Country      0\n",
       "SourceYear        0\n",
       "Export Country    0\n",
       "Export value      0\n",
       "YearCode          0\n",
       "Year              0\n",
       "dtype: int64"
      ]
     },
     "execution_count": 24,
     "metadata": {},
     "output_type": "execute_result"
    }
   ],
   "source": [
    "#Check for Missing Values. After dropping rows with null values.\n",
    "df.isnull().sum()"
   ]
  },
  {
   "cell_type": "code",
   "execution_count": 7,
   "id": "4649c684-b400-4167-8004-158ff039a5c9",
   "metadata": {},
   "outputs": [
    {
     "data": {
      "text/html": [
       "<div>\n",
       "<style scoped>\n",
       "    .dataframe tbody tr th:only-of-type {\n",
       "        vertical-align: middle;\n",
       "    }\n",
       "\n",
       "    .dataframe tbody tr th {\n",
       "        vertical-align: top;\n",
       "    }\n",
       "\n",
       "    .dataframe thead th {\n",
       "        text-align: right;\n",
       "    }\n",
       "</style>\n",
       "<table border=\"1\" class=\"dataframe\">\n",
       "  <thead>\n",
       "    <tr style=\"text-align: right;\">\n",
       "      <th></th>\n",
       "      <th>ROWID</th>\n",
       "      <th>Country</th>\n",
       "      <th>SourceYear</th>\n",
       "      <th>Name of the export country</th>\n",
       "      <th>Export value</th>\n",
       "      <th>YearCode</th>\n",
       "      <th>Year</th>\n",
       "    </tr>\n",
       "  </thead>\n",
       "  <tbody>\n",
       "    <tr>\n",
       "      <th>6064</th>\n",
       "      <td>6065</td>\n",
       "      <td>India</td>\n",
       "      <td>2021-22</td>\n",
       "      <td>U S A</td>\n",
       "      <td>56796119.26</td>\n",
       "      <td>2021</td>\n",
       "      <td>Financial Year (Apr - Mar), 2021</td>\n",
       "    </tr>\n",
       "    <tr>\n",
       "      <th>5832</th>\n",
       "      <td>5833</td>\n",
       "      <td>India</td>\n",
       "      <td>2020-21</td>\n",
       "      <td>U S A</td>\n",
       "      <td>38184452.93</td>\n",
       "      <td>2020</td>\n",
       "      <td>Financial Year (Apr - Mar), 2020</td>\n",
       "    </tr>\n",
       "    <tr>\n",
       "      <th>5598</th>\n",
       "      <td>5599</td>\n",
       "      <td>India</td>\n",
       "      <td>2019-20</td>\n",
       "      <td>U S A</td>\n",
       "      <td>37616554.11</td>\n",
       "      <td>2019</td>\n",
       "      <td>Financial Year (Apr - Mar), 2019</td>\n",
       "    </tr>\n",
       "    <tr>\n",
       "      <th>5351</th>\n",
       "      <td>5352</td>\n",
       "      <td>India</td>\n",
       "      <td>2018-19</td>\n",
       "      <td>U S A</td>\n",
       "      <td>36648039.35</td>\n",
       "      <td>2018</td>\n",
       "      <td>Financial Year (Apr - Mar), 2018</td>\n",
       "    </tr>\n",
       "    <tr>\n",
       "      <th>5116</th>\n",
       "      <td>5117</td>\n",
       "      <td>India</td>\n",
       "      <td>2017-18</td>\n",
       "      <td>U S A</td>\n",
       "      <td>30860269.10</td>\n",
       "      <td>2017</td>\n",
       "      <td>Financial Year (Apr - Mar), 2017</td>\n",
       "    </tr>\n",
       "    <tr>\n",
       "      <th>...</th>\n",
       "      <td>...</td>\n",
       "      <td>...</td>\n",
       "      <td>...</td>\n",
       "      <td>...</td>\n",
       "      <td>...</td>\n",
       "      <td>...</td>\n",
       "      <td>...</td>\n",
       "    </tr>\n",
       "    <tr>\n",
       "      <th>5360</th>\n",
       "      <td>5361</td>\n",
       "      <td>India</td>\n",
       "      <td>2019-20</td>\n",
       "      <td>GUERNSEY</td>\n",
       "      <td>0.01</td>\n",
       "      <td>2019</td>\n",
       "      <td>Financial Year (Apr - Mar), 2019</td>\n",
       "    </tr>\n",
       "    <tr>\n",
       "      <th>2751</th>\n",
       "      <td>2752</td>\n",
       "      <td>India</td>\n",
       "      <td>2008-09</td>\n",
       "      <td>PACIFIC IS</td>\n",
       "      <td>0.01</td>\n",
       "      <td>2008</td>\n",
       "      <td>Financial Year (Apr - Mar), 2008</td>\n",
       "    </tr>\n",
       "    <tr>\n",
       "      <th>4165</th>\n",
       "      <td>4164</td>\n",
       "      <td>India</td>\n",
       "      <td>2014-15</td>\n",
       "      <td>CHANNEL IS</td>\n",
       "      <td>0.01</td>\n",
       "      <td>2014</td>\n",
       "      <td>Financial Year (Apr - Mar), 2014</td>\n",
       "    </tr>\n",
       "    <tr>\n",
       "      <th>5361</th>\n",
       "      <td>5362</td>\n",
       "      <td>India</td>\n",
       "      <td>2019-20</td>\n",
       "      <td>JERSEY</td>\n",
       "      <td>0.01</td>\n",
       "      <td>2019</td>\n",
       "      <td>Financial Year (Apr - Mar), 2019</td>\n",
       "    </tr>\n",
       "    <tr>\n",
       "      <th>5600</th>\n",
       "      <td>5601</td>\n",
       "      <td>India</td>\n",
       "      <td>2020-21</td>\n",
       "      <td>GUERNSEY</td>\n",
       "      <td>0.00</td>\n",
       "      <td>2020</td>\n",
       "      <td>Financial Year (Apr - Mar), 2020</td>\n",
       "    </tr>\n",
       "  </tbody>\n",
       "</table>\n",
       "<p>5989 rows × 7 columns</p>\n",
       "</div>"
      ],
      "text/plain": [
       "      ROWID Country SourceYear Name of the export country  Export value  \\\n",
       "6064   6065   India    2021-22                      U S A   56796119.26   \n",
       "5832   5833   India    2020-21                      U S A   38184452.93   \n",
       "5598   5599   India    2019-20                      U S A   37616554.11   \n",
       "5351   5352   India    2018-19                      U S A   36648039.35   \n",
       "5116   5117   India    2017-18                      U S A   30860269.10   \n",
       "...     ...     ...        ...                        ...           ...   \n",
       "5360   5361   India    2019-20                   GUERNSEY          0.01   \n",
       "2751   2752   India    2008-09                 PACIFIC IS          0.01   \n",
       "4165   4164   India    2014-15                 CHANNEL IS          0.01   \n",
       "5361   5362   India    2019-20                     JERSEY          0.01   \n",
       "5600   5601   India    2020-21                   GUERNSEY          0.00   \n",
       "\n",
       "      YearCode                              Year  \n",
       "6064      2021  Financial Year (Apr - Mar), 2021  \n",
       "5832      2020  Financial Year (Apr - Mar), 2020  \n",
       "5598      2019  Financial Year (Apr - Mar), 2019  \n",
       "5351      2018  Financial Year (Apr - Mar), 2018  \n",
       "5116      2017  Financial Year (Apr - Mar), 2017  \n",
       "...        ...                               ...  \n",
       "5360      2019  Financial Year (Apr - Mar), 2019  \n",
       "2751      2008  Financial Year (Apr - Mar), 2008  \n",
       "4165      2014  Financial Year (Apr - Mar), 2014  \n",
       "5361      2019  Financial Year (Apr - Mar), 2019  \n",
       "5600      2020  Financial Year (Apr - Mar), 2020  \n",
       "\n",
       "[5989 rows x 7 columns]"
      ]
     },
     "execution_count": 7,
     "metadata": {},
     "output_type": "execute_result"
    }
   ],
   "source": [
    "#Sort Values by top export Countries.\n",
    "df.sort_values(by='Export value', ascending=False)"
   ]
  },
  {
   "cell_type": "code",
   "execution_count": 25,
   "id": "1997ec17-7697-464c-bf9f-7565b1636b23",
   "metadata": {},
   "outputs": [
    {
     "name": "stdout",
     "output_type": "stream",
     "text": [
      "      ROWID Home Country SourceYear Export Country  Export value  YearCode  \\\n",
      "0         1        India    1996-97   FR POLYNESIA          0.26      1996   \n",
      "1         2        India    1996-97     PACIFIC IS          1.52      1996   \n",
      "2         3        India    1996-97     MONTSERRAT          1.54      1996   \n",
      "3         4        India    1996-97   PITCAIRN IS.          1.88      1996   \n",
      "4         5        India    1996-97    TIMOR LESTE          3.47      1996   \n",
      "...     ...          ...        ...            ...           ...       ...   \n",
      "6060   6061        India    2021-22     NETHERLAND    9372473.48      2021   \n",
      "6061   6062        India    2021-22  BANGLADESH PR   12053472.57      2021   \n",
      "6062   6063        India    2021-22     CHINA P RP   15821547.51      2021   \n",
      "6063   6064        India    2021-22    U ARAB EMTS   20915828.49      2021   \n",
      "6064   6065        India    2021-22          U S A   56796119.26      2021   \n",
      "\n",
      "                                  Year  \n",
      "0     Financial Year (Apr - Mar), 1996  \n",
      "1     Financial Year (Apr - Mar), 1996  \n",
      "2     Financial Year (Apr - Mar), 1996  \n",
      "3     Financial Year (Apr - Mar), 1996  \n",
      "4     Financial Year (Apr - Mar), 1996  \n",
      "...                                ...  \n",
      "6060  Financial Year (Apr - Mar), 2021  \n",
      "6061  Financial Year (Apr - Mar), 2021  \n",
      "6062  Financial Year (Apr - Mar), 2021  \n",
      "6063  Financial Year (Apr - Mar), 2021  \n",
      "6064  Financial Year (Apr - Mar), 2021  \n",
      "\n",
      "[5989 rows x 7 columns]\n"
     ]
    }
   ],
   "source": [
    "#Rename Country Columns. \n",
    "df= df.rename(columns={\"Name of the export country\": 'Export Country', \"Country\":\"Home Country\"})\n",
    "print(df)"
   ]
  },
  {
   "cell_type": "code",
   "execution_count": 19,
   "id": "74bc7be0-ac5e-4e8e-9c79-37a3edb5ac25",
   "metadata": {},
   "outputs": [
    {
     "data": {
      "image/png": "[encoded data removed]",
      "text/plain": [
       "<Figure size 640x480 with 1 Axes>"
      ]
     },
     "metadata": {},
     "output_type": "display_data"
    }
   ],
   "source": [
    "#Create an Histogram of Exports\n",
    "df['Export value'].hist()\n",
    "# Add labels and title\n",
    "plt.xlabel('Export value')\n",
    "plt.ylabel('Count')\n",
    "plt.title('Distribution of Exports in All Countries')\n",
    "\n",
    "# Show the plot\n",
    "plt.show()"
   ]
  },
  {
   "cell_type": "code",
   "execution_count": null,
   "id": "7745c31c-7d44-4aa7-aebc-4de8daa99905",
   "metadata": {},
   "outputs": [],
   "source": [
    "#The values seem to lie within a certain range we have to introduce percentile in order to capture where most values lie. "
   ]
  },
  {
   "cell_type": "code",
   "execution_count": 20,
   "id": "d0633011-6cac-43f6-8e00-acf0120bd326",
   "metadata": {},
   "outputs": [
    {
     "data": {
      "image/png": "[encoded data removed]",
      "text/plain": [
       "<Figure size 640x480 with 1 Axes>"
      ]
     },
     "metadata": {},
     "output_type": "display_data"
    }
   ],
   "source": [
    "import matplotlib.pyplot as plt\n",
    "import plotly.express as px\n",
    "# Calculate percentiles\n",
    "lower_percentile = df['Export value'].quantile(0.10)\n",
    "upper_percentile = df['Export value'].quantile(0.90)\n",
    "\n",
    "# Filter data within percentiles\n",
    "filtered_df = df[(df['Export value'] >= lower_percentile) & (df['Export value'] <= upper_percentile)]\n",
    "\n",
    "# Create histogram for filtered data\n",
    "plt.hist(filtered_df['Export value'], bins=20, edgecolor='black')\n",
    "\n",
    "# Add labels and title\n",
    "plt.xlabel('Export value')\n",
    "plt.ylabel('Count')\n",
    "plt.title('Distribution of Exports (Between 10th and 90th Percentiles) in All Countries')\n",
    "\n",
    "# Show the plot\n",
    "plt.show()"
   ]
  },
  {
   "cell_type": "code",
   "execution_count": 9,
   "id": "1c9c0e0f-b2ed-4ff2-8351-51c6ec3ee976",
   "metadata": {},
   "outputs": [
    {
     "data": {
      "image/png": "[encoded data removed]",
      "text/plain": [
       "<Figure size 640x480 with 1 Axes>"
      ]
     },
     "metadata": {},
     "output_type": "display_data"
    }
   ],
   "source": [
    "#Scatter plot of Exports vs Year\n",
    "plt.scatter(df['YearCode'] , df['Export value'])\n",
    "# Add labels and title\n",
    "plt.xlabel('Year')\n",
    "plt.ylabel('Exports')\n",
    "plt.title('Distribution Of Exports Over The Years')\n",
    "\n",
    "# Show the plot\n",
    "plt.show()"
   ]
  },
  {
   "cell_type": "code",
   "execution_count": 40,
   "id": "0c76be6b-c660-41a9-bffa-366f33f6af5f",
   "metadata": {},
   "outputs": [
    {
     "data": {
      "text/html": [
       "<div>\n",
       "<style scoped>\n",
       "    .dataframe tbody tr th:only-of-type {\n",
       "        vertical-align: middle;\n",
       "    }\n",
       "\n",
       "    .dataframe tbody tr th {\n",
       "        vertical-align: top;\n",
       "    }\n",
       "\n",
       "    .dataframe thead th {\n",
       "        text-align: right;\n",
       "    }\n",
       "</style>\n",
       "<table border=\"1\" class=\"dataframe\">\n",
       "  <thead>\n",
       "    <tr style=\"text-align: right;\">\n",
       "      <th></th>\n",
       "      <th>Export Country</th>\n",
       "      <th>Export value</th>\n",
       "      <th>YearCode</th>\n",
       "    </tr>\n",
       "  </thead>\n",
       "  <tbody>\n",
       "    <tr>\n",
       "      <th>6064</th>\n",
       "      <td>U S A</td>\n",
       "      <td>56796119.26</td>\n",
       "      <td>2021</td>\n",
       "    </tr>\n",
       "    <tr>\n",
       "      <th>5832</th>\n",
       "      <td>U S A</td>\n",
       "      <td>38184452.93</td>\n",
       "      <td>2020</td>\n",
       "    </tr>\n",
       "    <tr>\n",
       "      <th>5598</th>\n",
       "      <td>U S A</td>\n",
       "      <td>37616554.11</td>\n",
       "      <td>2019</td>\n",
       "    </tr>\n",
       "    <tr>\n",
       "      <th>5351</th>\n",
       "      <td>U S A</td>\n",
       "      <td>36648039.35</td>\n",
       "      <td>2018</td>\n",
       "    </tr>\n",
       "    <tr>\n",
       "      <th>5116</th>\n",
       "      <td>U S A</td>\n",
       "      <td>30860269.10</td>\n",
       "      <td>2017</td>\n",
       "    </tr>\n",
       "    <tr>\n",
       "      <th>...</th>\n",
       "      <td>...</td>\n",
       "      <td>...</td>\n",
       "      <td>...</td>\n",
       "    </tr>\n",
       "    <tr>\n",
       "      <th>5360</th>\n",
       "      <td>GUERNSEY</td>\n",
       "      <td>0.01</td>\n",
       "      <td>2019</td>\n",
       "    </tr>\n",
       "    <tr>\n",
       "      <th>2751</th>\n",
       "      <td>PACIFIC IS</td>\n",
       "      <td>0.01</td>\n",
       "      <td>2008</td>\n",
       "    </tr>\n",
       "    <tr>\n",
       "      <th>4165</th>\n",
       "      <td>CHANNEL IS</td>\n",
       "      <td>0.01</td>\n",
       "      <td>2014</td>\n",
       "    </tr>\n",
       "    <tr>\n",
       "      <th>5361</th>\n",
       "      <td>JERSEY</td>\n",
       "      <td>0.01</td>\n",
       "      <td>2019</td>\n",
       "    </tr>\n",
       "    <tr>\n",
       "      <th>5600</th>\n",
       "      <td>GUERNSEY</td>\n",
       "      <td>0.00</td>\n",
       "      <td>2020</td>\n",
       "    </tr>\n",
       "  </tbody>\n",
       "</table>\n",
       "<p>5989 rows × 3 columns</p>\n",
       "</div>"
      ],
      "text/plain": [
       "     Export Country  Export value  YearCode\n",
       "6064          U S A   56796119.26      2021\n",
       "5832          U S A   38184452.93      2020\n",
       "5598          U S A   37616554.11      2019\n",
       "5351          U S A   36648039.35      2018\n",
       "5116          U S A   30860269.10      2017\n",
       "...             ...           ...       ...\n",
       "5360       GUERNSEY          0.01      2019\n",
       "2751     PACIFIC IS          0.01      2008\n",
       "4165     CHANNEL IS          0.01      2014\n",
       "5361         JERSEY          0.01      2019\n",
       "5600       GUERNSEY          0.00      2020\n",
       "\n",
       "[5989 rows x 3 columns]"
      ]
     },
     "execution_count": 40,
     "metadata": {},
     "output_type": "execute_result"
    }
   ],
   "source": [
    "#Count lets create a column to count top countries and total exported value per year.\n",
    "df3 = df[[\"Export Country\", \"Export value\", \"YearCode\"]]\n",
    "df3.sort_values(by=\"Export value\", ascending=False)"
   ]
  },
  {
   "cell_type": "code",
   "execution_count": 41,
   "id": "3c329ba5-8d13-431c-bf9a-688acf071b3f",
   "metadata": {},
   "outputs": [
    {
     "data": {
      "text/html": [
       "<div>\n",
       "<style scoped>\n",
       "    .dataframe tbody tr th:only-of-type {\n",
       "        vertical-align: middle;\n",
       "    }\n",
       "\n",
       "    .dataframe tbody tr th {\n",
       "        vertical-align: top;\n",
       "    }\n",
       "\n",
       "    .dataframe thead th {\n",
       "        text-align: right;\n",
       "    }\n",
       "</style>\n",
       "<table border=\"1\" class=\"dataframe\">\n",
       "  <thead>\n",
       "    <tr style=\"text-align: right;\">\n",
       "      <th></th>\n",
       "      <th>Export Country</th>\n",
       "      <th>Export value</th>\n",
       "      <th>YearCode</th>\n",
       "    </tr>\n",
       "  </thead>\n",
       "  <tbody>\n",
       "    <tr>\n",
       "      <th>6055</th>\n",
       "      <td>GERMANY</td>\n",
       "      <td>7371637.84</td>\n",
       "      <td>2021</td>\n",
       "    </tr>\n",
       "    <tr>\n",
       "      <th>6056</th>\n",
       "      <td>BELGIUM</td>\n",
       "      <td>7522465.09</td>\n",
       "      <td>2021</td>\n",
       "    </tr>\n",
       "    <tr>\n",
       "      <th>6057</th>\n",
       "      <td>U K</td>\n",
       "      <td>7799211.31</td>\n",
       "      <td>2021</td>\n",
       "    </tr>\n",
       "    <tr>\n",
       "      <th>6058</th>\n",
       "      <td>HONG KONG</td>\n",
       "      <td>8183452.88</td>\n",
       "      <td>2021</td>\n",
       "    </tr>\n",
       "    <tr>\n",
       "      <th>6059</th>\n",
       "      <td>SINGAPORE</td>\n",
       "      <td>8301294.51</td>\n",
       "      <td>2021</td>\n",
       "    </tr>\n",
       "    <tr>\n",
       "      <th>6060</th>\n",
       "      <td>NETHERLAND</td>\n",
       "      <td>9372473.48</td>\n",
       "      <td>2021</td>\n",
       "    </tr>\n",
       "    <tr>\n",
       "      <th>6061</th>\n",
       "      <td>BANGLADESH PR</td>\n",
       "      <td>12053472.57</td>\n",
       "      <td>2021</td>\n",
       "    </tr>\n",
       "    <tr>\n",
       "      <th>6062</th>\n",
       "      <td>CHINA P RP</td>\n",
       "      <td>15821547.51</td>\n",
       "      <td>2021</td>\n",
       "    </tr>\n",
       "    <tr>\n",
       "      <th>6063</th>\n",
       "      <td>U ARAB EMTS</td>\n",
       "      <td>20915828.49</td>\n",
       "      <td>2021</td>\n",
       "    </tr>\n",
       "    <tr>\n",
       "      <th>6064</th>\n",
       "      <td>U S A</td>\n",
       "      <td>56796119.26</td>\n",
       "      <td>2021</td>\n",
       "    </tr>\n",
       "  </tbody>\n",
       "</table>\n",
       "</div>"
      ],
      "text/plain": [
       "     Export Country  Export value  YearCode\n",
       "6055        GERMANY    7371637.84      2021\n",
       "6056        BELGIUM    7522465.09      2021\n",
       "6057            U K    7799211.31      2021\n",
       "6058      HONG KONG    8183452.88      2021\n",
       "6059      SINGAPORE    8301294.51      2021\n",
       "6060     NETHERLAND    9372473.48      2021\n",
       "6061  BANGLADESH PR   12053472.57      2021\n",
       "6062     CHINA P RP   15821547.51      2021\n",
       "6063    U ARAB EMTS   20915828.49      2021\n",
       "6064          U S A   56796119.26      2021"
      ]
     },
     "execution_count": 41,
     "metadata": {},
     "output_type": "execute_result"
    }
   ],
   "source": [
    "#Top 10 countries by export and year with highest exports. \n",
    "df3.tail(10)"
   ]
  },
  {
   "cell_type": "code",
   "execution_count": 42,
   "id": "f59d94d1-395f-4177-b546-b6174cf8aa73",
   "metadata": {},
   "outputs": [
    {
     "data": {
      "text/plain": [
       "<Axes: >"
      ]
     },
     "execution_count": 42,
     "metadata": {},
     "output_type": "execute_result"
    },
    {
     "data": {
      "image/png": "[encoded data removed]",
      "text/plain": [
       "<Figure size 640x480 with 1 Axes>"
      ]
     },
     "metadata": {},
     "output_type": "display_data"
    }
   ],
   "source": [
    "#Horizontal Bar Chart.\n",
    "df3.tail(10).plot(kind=\"barh\" )"
   ]
  },
  {
   "cell_type": "code",
   "execution_count": 53,
   "id": "163dcda4-9907-421b-8419-b74189a1a84a",
   "metadata": {},
   "outputs": [
    {
     "data": {
      "text/plain": [
       "count    5.989000e+03\n",
       "mean     4.783565e+05\n",
       "std      1.971221e+06\n",
       "min      0.000000e+00\n",
       "25%      1.461210e+03\n",
       "50%      2.211462e+04\n",
       "75%      1.840043e+05\n",
       "max      5.679612e+07\n",
       "Name: Export value, dtype: float64"
      ]
     },
     "execution_count": 53,
     "metadata": {},
     "output_type": "execute_result"
    }
   ],
   "source": [
    "df['Export value'].describe()"
   ]
  },
  {
   "cell_type": "code",
   "execution_count": null,
   "id": "c36c1ff5-0540-4b8b-be76-118e91235839",
   "metadata": {},
   "outputs": [],
   "source": [
    "#Create a linear regression model to predict the export value.\n"
   ]
  }
 ],
 "metadata": {
  "kernelspec": {
   "display_name": "Python 3 (ipykernel)",
   "language": "python",
   "name": "python3"
  },
  "language_info": {
   "codemirror_mode": {
    "name": "ipython",
    "version": 3
   },
   "file_extension": ".py",
   "mimetype": "text/x-python",
   "name": "python",
   "nbconvert_exporter": "python",
   "pygments_lexer": "ipython3",
   "version": "3.11.7"
  }
 },
 "nbformat": 4,
 "nbformat_minor": 5
}
